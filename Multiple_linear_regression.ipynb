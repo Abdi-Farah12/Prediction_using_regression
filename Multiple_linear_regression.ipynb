{
 "cells": [
  {
   "cell_type": "markdown",
   "id": "46fcc342",
   "metadata": {},
   "source": [
    "## Conducting multiple linear regression using Python"
   ]
  },
  {
   "cell_type": "markdown",
   "id": "e0ec3ed0",
   "metadata": {},
   "source": [
    "## 1. Prepare your workstation"
   ]
  },
  {
   "cell_type": "code",
   "execution_count": 32,
   "id": "19b7bc2c",
   "metadata": {},
   "outputs": [],
   "source": [
    "#import all the necessary packages\n",
    "import numpy as np\n",
    "import pandas as pd\n",
    "import statsmodels.api as sm\n",
    "import statsmodels.stats.api as sms\n",
    "import sklearn\n",
    "import matplotlib.pyplot as plt\n",
    "\n",
    "from sklearn import datasets \n",
    "from sklearn import linear_model\n",
    "from statsmodels.stats.outliers_influence import variance_inflation_factor\n",
    "from sklearn.model_selection import train_test_split\n",
    "from sklearn import metrics\n",
    "from sklearn.linear_model import LinearRegression\n",
    "from statsmodels.formula.api import ols"
   ]
  },
  {
   "cell_type": "markdown",
   "id": "8a657692",
   "metadata": {},
   "source": [
    "## 2. Import data set"
   ]
  },
  {
   "cell_type": "code",
   "execution_count": 33,
   "id": "78df595c",
   "metadata": {},
   "outputs": [
    {
     "data": {
      "text/html": [
       "<div>\n",
       "<style scoped>\n",
       "    .dataframe tbody tr th:only-of-type {\n",
       "        vertical-align: middle;\n",
       "    }\n",
       "\n",
       "    .dataframe tbody tr th {\n",
       "        vertical-align: top;\n",
       "    }\n",
       "\n",
       "    .dataframe thead th {\n",
       "        text-align: right;\n",
       "    }\n",
       "</style>\n",
       "<table border=\"1\" class=\"dataframe\">\n",
       "  <thead>\n",
       "    <tr style=\"text-align: right;\">\n",
       "      <th></th>\n",
       "      <th>Sale</th>\n",
       "      <th>por_OS</th>\n",
       "      <th>por_NON</th>\n",
       "      <th>recc</th>\n",
       "      <th>avg_no_it</th>\n",
       "      <th>age</th>\n",
       "      <th>dis</th>\n",
       "      <th>diff_reg</th>\n",
       "      <th>tax</th>\n",
       "      <th>bk</th>\n",
       "      <th>lowstat</th>\n",
       "      <th>Median_s</th>\n",
       "    </tr>\n",
       "  </thead>\n",
       "  <tbody>\n",
       "    <tr>\n",
       "      <th>0</th>\n",
       "      <td>0.63</td>\n",
       "      <td>18.0</td>\n",
       "      <td>2.31</td>\n",
       "      <td>0</td>\n",
       "      <td>6.575</td>\n",
       "      <td>65.2</td>\n",
       "      <td>4.0900</td>\n",
       "      <td>1</td>\n",
       "      <td>296</td>\n",
       "      <td>396.90</td>\n",
       "      <td>4.98</td>\n",
       "      <td>24.0</td>\n",
       "    </tr>\n",
       "    <tr>\n",
       "      <th>1</th>\n",
       "      <td>2.73</td>\n",
       "      <td>0.0</td>\n",
       "      <td>7.07</td>\n",
       "      <td>0</td>\n",
       "      <td>6.421</td>\n",
       "      <td>78.9</td>\n",
       "      <td>4.9671</td>\n",
       "      <td>2</td>\n",
       "      <td>242</td>\n",
       "      <td>396.90</td>\n",
       "      <td>9.14</td>\n",
       "      <td>21.6</td>\n",
       "    </tr>\n",
       "    <tr>\n",
       "      <th>2</th>\n",
       "      <td>2.73</td>\n",
       "      <td>0.0</td>\n",
       "      <td>7.07</td>\n",
       "      <td>0</td>\n",
       "      <td>7.185</td>\n",
       "      <td>61.1</td>\n",
       "      <td>4.9671</td>\n",
       "      <td>2</td>\n",
       "      <td>242</td>\n",
       "      <td>392.83</td>\n",
       "      <td>4.03</td>\n",
       "      <td>34.7</td>\n",
       "    </tr>\n",
       "    <tr>\n",
       "      <th>3</th>\n",
       "      <td>3.24</td>\n",
       "      <td>0.0</td>\n",
       "      <td>2.18</td>\n",
       "      <td>0</td>\n",
       "      <td>6.998</td>\n",
       "      <td>45.8</td>\n",
       "      <td>6.0622</td>\n",
       "      <td>3</td>\n",
       "      <td>222</td>\n",
       "      <td>394.63</td>\n",
       "      <td>2.94</td>\n",
       "      <td>33.4</td>\n",
       "    </tr>\n",
       "    <tr>\n",
       "      <th>4</th>\n",
       "      <td>6.91</td>\n",
       "      <td>0.0</td>\n",
       "      <td>2.18</td>\n",
       "      <td>0</td>\n",
       "      <td>7.147</td>\n",
       "      <td>54.2</td>\n",
       "      <td>6.0622</td>\n",
       "      <td>3</td>\n",
       "      <td>222</td>\n",
       "      <td>396.90</td>\n",
       "      <td>5.33</td>\n",
       "      <td>36.2</td>\n",
       "    </tr>\n",
       "    <tr>\n",
       "      <th>...</th>\n",
       "      <td>...</td>\n",
       "      <td>...</td>\n",
       "      <td>...</td>\n",
       "      <td>...</td>\n",
       "      <td>...</td>\n",
       "      <td>...</td>\n",
       "      <td>...</td>\n",
       "      <td>...</td>\n",
       "      <td>...</td>\n",
       "      <td>...</td>\n",
       "      <td>...</td>\n",
       "      <td>...</td>\n",
       "    </tr>\n",
       "    <tr>\n",
       "      <th>501</th>\n",
       "      <td>6.26</td>\n",
       "      <td>0.0</td>\n",
       "      <td>11.93</td>\n",
       "      <td>0</td>\n",
       "      <td>6.593</td>\n",
       "      <td>69.1</td>\n",
       "      <td>2.4786</td>\n",
       "      <td>1</td>\n",
       "      <td>273</td>\n",
       "      <td>391.99</td>\n",
       "      <td>9.67</td>\n",
       "      <td>22.4</td>\n",
       "    </tr>\n",
       "    <tr>\n",
       "      <th>502</th>\n",
       "      <td>4.53</td>\n",
       "      <td>0.0</td>\n",
       "      <td>11.93</td>\n",
       "      <td>0</td>\n",
       "      <td>6.120</td>\n",
       "      <td>76.7</td>\n",
       "      <td>2.2875</td>\n",
       "      <td>1</td>\n",
       "      <td>273</td>\n",
       "      <td>396.90</td>\n",
       "      <td>9.08</td>\n",
       "      <td>20.6</td>\n",
       "    </tr>\n",
       "    <tr>\n",
       "      <th>503</th>\n",
       "      <td>6.08</td>\n",
       "      <td>0.0</td>\n",
       "      <td>11.93</td>\n",
       "      <td>0</td>\n",
       "      <td>6.976</td>\n",
       "      <td>91.0</td>\n",
       "      <td>2.1675</td>\n",
       "      <td>1</td>\n",
       "      <td>273</td>\n",
       "      <td>396.90</td>\n",
       "      <td>5.64</td>\n",
       "      <td>23.9</td>\n",
       "    </tr>\n",
       "    <tr>\n",
       "      <th>504</th>\n",
       "      <td>10.96</td>\n",
       "      <td>0.0</td>\n",
       "      <td>11.93</td>\n",
       "      <td>0</td>\n",
       "      <td>6.794</td>\n",
       "      <td>89.3</td>\n",
       "      <td>2.3889</td>\n",
       "      <td>1</td>\n",
       "      <td>273</td>\n",
       "      <td>393.45</td>\n",
       "      <td>6.48</td>\n",
       "      <td>22.0</td>\n",
       "    </tr>\n",
       "    <tr>\n",
       "      <th>505</th>\n",
       "      <td>4.74</td>\n",
       "      <td>0.0</td>\n",
       "      <td>11.93</td>\n",
       "      <td>0</td>\n",
       "      <td>6.030</td>\n",
       "      <td>80.8</td>\n",
       "      <td>2.5050</td>\n",
       "      <td>1</td>\n",
       "      <td>273</td>\n",
       "      <td>396.90</td>\n",
       "      <td>7.88</td>\n",
       "      <td>11.9</td>\n",
       "    </tr>\n",
       "  </tbody>\n",
       "</table>\n",
       "<p>506 rows × 12 columns</p>\n",
       "</div>"
      ],
      "text/plain": [
       "      Sale  por_OS  por_NON  recc  avg_no_it   age     dis  diff_reg  tax  \\\n",
       "0     0.63    18.0     2.31     0      6.575  65.2  4.0900         1  296   \n",
       "1     2.73     0.0     7.07     0      6.421  78.9  4.9671         2  242   \n",
       "2     2.73     0.0     7.07     0      7.185  61.1  4.9671         2  242   \n",
       "3     3.24     0.0     2.18     0      6.998  45.8  6.0622         3  222   \n",
       "4     6.91     0.0     2.18     0      7.147  54.2  6.0622         3  222   \n",
       "..     ...     ...      ...   ...        ...   ...     ...       ...  ...   \n",
       "501   6.26     0.0    11.93     0      6.593  69.1  2.4786         1  273   \n",
       "502   4.53     0.0    11.93     0      6.120  76.7  2.2875         1  273   \n",
       "503   6.08     0.0    11.93     0      6.976  91.0  2.1675         1  273   \n",
       "504  10.96     0.0    11.93     0      6.794  89.3  2.3889         1  273   \n",
       "505   4.74     0.0    11.93     0      6.030  80.8  2.5050         1  273   \n",
       "\n",
       "         bk  lowstat  Median_s  \n",
       "0    396.90     4.98      24.0  \n",
       "1    396.90     9.14      21.6  \n",
       "2    392.83     4.03      34.7  \n",
       "3    394.63     2.94      33.4  \n",
       "4    396.90     5.33      36.2  \n",
       "..      ...      ...       ...  \n",
       "501  391.99     9.67      22.4  \n",
       "502  396.90     9.08      20.6  \n",
       "503  396.90     5.64      23.9  \n",
       "504  393.45     6.48      22.0  \n",
       "505  396.90     7.88      11.9  \n",
       "\n",
       "[506 rows x 12 columns]"
      ]
     },
     "execution_count": 33,
     "metadata": {},
     "output_type": "execute_result"
    }
   ],
   "source": [
    "df_ecom = pd.read_csv('Ecommerce_data.csv')\n",
    "\n",
    "df_ecom"
   ]
  },
  {
   "cell_type": "code",
   "execution_count": 34,
   "id": "24a6103b",
   "metadata": {},
   "outputs": [
    {
     "name": "stdout",
     "output_type": "stream",
     "text": [
      "<class 'pandas.core.frame.DataFrame'>\n",
      "RangeIndex: 506 entries, 0 to 505\n",
      "Data columns (total 12 columns):\n",
      " #   Column     Non-Null Count  Dtype  \n",
      "---  ------     --------------  -----  \n",
      " 0   Sale       506 non-null    float64\n",
      " 1   por_OS     506 non-null    float64\n",
      " 2   por_NON    506 non-null    float64\n",
      " 3   recc       506 non-null    int64  \n",
      " 4   avg_no_it  506 non-null    float64\n",
      " 5   age        506 non-null    float64\n",
      " 6   dis        506 non-null    float64\n",
      " 7   diff_reg   506 non-null    int64  \n",
      " 8   tax        506 non-null    int64  \n",
      " 9   bk         506 non-null    float64\n",
      " 10  lowstat    506 non-null    float64\n",
      " 11  Median_s   506 non-null    float64\n",
      "dtypes: float64(9), int64(3)\n",
      "memory usage: 47.6 KB\n"
     ]
    }
   ],
   "source": [
    "# view DataFrame\n",
    "df_ecom.info()"
   ]
  },
  {
   "cell_type": "markdown",
   "id": "a2b6ccab",
   "metadata": {},
   "source": [
    "## 3 Define variables"
   ]
  },
  {
   "cell_type": "code",
   "execution_count": 35,
   "id": "d95605e9",
   "metadata": {},
   "outputs": [],
   "source": [
    "# dependent variable\n",
    "y = df_ecom['Median_s'] \n",
    "\n",
    "# independent variable\n",
    "X = df_ecom[['avg_no_it', 'tax']] "
   ]
  },
  {
   "cell_type": "code",
   "execution_count": 36,
   "id": "c9cbe0b9",
   "metadata": {},
   "outputs": [],
   "source": [
    "# create train and test data sets\n",
    "x_train, x_test, y_train, y_test = train_test_split(X, y, test_size=0.2, random_state=5)"
   ]
  },
  {
   "cell_type": "code",
   "execution_count": 37,
   "id": "3f295fd0",
   "metadata": {},
   "outputs": [
    {
     "data": {
      "text/plain": [
       "LinearRegression()"
      ]
     },
     "execution_count": 37,
     "metadata": {},
     "output_type": "execute_result"
    }
   ],
   "source": [
    "multi = LinearRegression()  \n",
    "multi.fit(x_train, y_train)"
   ]
  },
  {
   "cell_type": "code",
   "execution_count": 39,
   "id": "602cd223",
   "metadata": {
    "scrolled": true
   },
   "outputs": [
    {
     "data": {
      "text/plain": [
       "array([19.68077167, 38.76268832, 15.79429553, 23.49922927, 19.2739039 ,\n",
       "        8.11113341, 22.59791218, 14.06288888, 26.39447012, 21.86039213,\n",
       "       19.79545594, 30.26529047, 21.22777796, 21.44808858, 20.79264432,\n",
       "       23.45370907, 21.97392517, 18.46339447, 23.11847005, 34.4541126 ,\n",
       "       25.78072075, 19.76882387, 23.04084157, 26.82686538, 17.75595394,\n",
       "       22.13454223, 20.1246662 , 37.45556138, 34.46353646, 25.41954164,\n",
       "       14.71226966, 21.05474884, 20.37149849, 22.93705789, 11.66858537,\n",
       "        5.63570732, 25.934629  , 26.27064708, 22.2364656 , 21.61934447,\n",
       "       17.77360377, 18.96641292, 31.56527838, 15.15597811, 26.66444607,\n",
       "       20.36881247, 24.43706724, 23.85868181, 18.76614735, 24.03793148,\n",
       "       19.70204364, 17.6314042 , 21.96729204, 33.05748004, 11.14180696,\n",
       "       25.42261122, 31.1691132 , 31.06150421, 21.95950768, 28.04224855,\n",
       "       18.54177868, 31.03384325, 24.53573494, 19.40072084, 20.55261985,\n",
       "       21.02538463, 30.45308592, -2.85702811, 24.909733  , 19.05594186,\n",
       "       17.05358842, 21.07872391, 22.54333459, 12.74517546, 19.53717674,\n",
       "       29.52410786, 22.68984204, 16.15237603, 31.01355975, 36.30385414,\n",
       "       21.09084518, 23.29169095,  8.0566429 , 21.41668368, 32.02703216,\n",
       "       19.22719775, 32.86618479, 24.12806479, 17.86720216, 21.38031987,\n",
       "       22.03620004, 24.877491  , 28.85074631, 17.86493496, 22.91933239,\n",
       "       27.25260989, 22.86244664, 24.32851643, 29.30614581, 17.56912933,\n",
       "       28.19548814, 25.86720913, 12.39253074, 32.57945417, 25.64924709,\n",
       "       19.28168826, 29.81948328, 21.79603615, 23.73407972, 26.05492321,\n",
       "       20.74475221, 20.36043514, 21.55432553, 25.06625729, 23.39089358,\n",
       "       29.27659552, 22.76119763, 20.71609139,  1.6345469 , 13.66138122,\n",
       "       23.51369342, 15.12484067, 25.36408029, 21.8167032 , 17.56912933,\n",
       "       27.54071254, 34.54472279, 17.42901087, 18.88676707, 24.68964319,\n",
       "       19.52300339, 26.01901864, 22.1202932 , 23.95161154, 14.86017247,\n",
       "       24.87956641, 13.22545713, 22.01284696, 29.10550239, 22.6549897 ,\n",
       "       21.93045136, 19.08707929, 20.43628469, 37.66611693, 23.01522699,\n",
       "       17.39305965, 15.25973276, 23.78482629, 18.2255268 , 23.6555908 ,\n",
       "       25.41873355, 19.47064634, 32.32898265, 13.38892867, 23.89994648,\n",
       "       18.5577429 , 39.21649498, 25.04117764, 24.25673633, 24.40614491,\n",
       "       30.00924374, 26.35000213, 21.29919159, 22.79863698, 35.45215002,\n",
       "       21.3879705 , 32.29725224, 27.38120005, 20.55261985, 29.26692753,\n",
       "       21.11489594, 17.86012118, 18.4936948 , 19.71761236, 26.62832639,\n",
       "       15.78885974, 19.28947262, 26.24077698, 26.30526099, 27.78008598,\n",
       "       22.47233924, 17.70146343, 27.89504911, 27.2207981 , 21.44030422,\n",
       "       24.99619806, 22.64313589, 28.74588709, 27.18123098, 23.23436929,\n",
       "       18.47211495, 18.66102067, 17.00087114, 25.65196783, 12.51708048,\n",
       "       31.96010056, 38.62181413, 13.89491199, 10.71110924, 29.72598959,\n",
       "       29.08125985, 20.4907752 , 23.93281049, 21.9384218 , 19.20384468,\n",
       "       19.43737544, 26.34988604, 31.66647505, 19.4786458 , 22.04726909,\n",
       "       19.32839442, 20.78054638, 21.60781617, 29.68798059, 18.48340481,\n",
       "       19.883165  , 17.39008908, 28.88298832, 43.76140359, 20.91202004,\n",
       "       23.91635231, 19.50743467, 28.92360766, 23.44454698, 16.75955602,\n",
       "       26.40651001, 19.50199888, 15.62303964, 21.18107181, 15.63082399,\n",
       "       16.29484306, 18.94279238, 22.34781853, 33.86966369, 29.28774595,\n",
       "       19.76103951, 14.09965389, 34.15550485, 23.98827184, 19.42781785,\n",
       "       19.02906565, 18.08289701, 29.19554862, 27.39787334, 22.26299866,\n",
       "       13.89491199, 28.31664279, 25.28712616, 14.59550428, 25.25219244,\n",
       "       19.08707929, 30.60583724, 17.81044445, 18.83797981, 23.56543416,\n",
       "       21.22913236, 25.18218556, 24.78496815, 32.07708105, 27.39353643,\n",
       "       21.58585846, 23.11367389, 22.55021185, 27.00049318, 23.75769456,\n",
       "       26.84025398, 29.41122015, 21.61129265, 15.75537373, 22.38221163,\n",
       "       22.54703187, 24.64051279, 32.73904804, -0.50615176, 21.94529337,\n",
       "       24.76455093, 20.81039315, 43.22067263, 22.94516776, 21.64412763,\n",
       "       27.25495276, 25.30444478, 24.84610943, 14.25299249, 25.69088962,\n",
       "       37.61464365, 39.49974913, 12.47815869, 18.79905802, 21.22234217,\n",
       "       20.94458756, 24.38822762, 32.10043413, 32.09251604, 12.74282689,\n",
       "       17.92239605, 19.90443697,  3.42494942, 23.82684669, 16.93081191,\n",
       "       26.43869966, 11.8709787 , 22.21639152, 18.85673421, 22.29874047,\n",
       "       21.61907701, 22.56876878, 40.20034142, 22.6777498 ,  1.6345469 ,\n",
       "       14.15958018, 13.14761354, 26.60537451, 25.42673302, 11.3805641 ,\n",
       "       20.12239901, 29.29224562, 22.20217721, 19.28737957, 18.44097751,\n",
       "       22.75559339, 24.55254196, 21.50231162, 16.52602525, 32.04535064,\n",
       "       27.51353415, 26.63573289,  9.55123979, 18.35182644, 22.32397718,\n",
       "       25.76690193,  8.34466417, 28.25784439, 23.66428226, 20.06279822,\n",
       "       40.59316956, 27.92093115, 15.25973276, 22.52989934, 37.76954037,\n",
       "       17.77930702, 22.48707085, 18.55680678, 21.44574   , 28.77680942,\n",
       "       12.0757206 , 19.58741172, 22.37313661, 25.56633988, 33.0890477 ,\n",
       "       23.86450116, 14.27634557, 31.503922  , 18.08289701, 19.29960555,\n",
       "       22.26523114,  7.41054112, 34.35849115, 26.47115678, 26.74759741,\n",
       "       18.59666469, 11.89668035, 21.81373833, 22.18822466, 10.50093156,\n",
       "       20.05660101, 29.21413457, 11.16260205, 23.41340955, 22.30980383,\n",
       "       22.71799128, 17.54034047, 23.84815338, 23.10766846, 15.55298041,\n",
       "       19.77418397, 22.61339382, 23.77445493, 37.79198635, 21.6511039 ,\n",
       "       23.75729906, 22.37415981, 28.09332064, 17.31224549, 20.67735568,\n",
       "       14.97693786, 39.20095529, 23.28169745, 22.99779797, 20.94988961,\n",
       "       19.28395546, 21.24334668, 18.7834893 , 32.99980954, 35.13272385,\n",
       "       19.07035935, 23.94821645, 16.02782629, 18.96479675, 17.01643986,\n",
       "       29.7424711 , 18.06380516, 25.03729997, 21.06792232])"
      ]
     },
     "execution_count": 39,
     "metadata": {},
     "output_type": "execute_result"
    }
   ],
   "source": [
    "multi.predict(x_train)"
   ]
  },
  {
   "cell_type": "code",
   "execution_count": 40,
   "id": "bc1d28f9",
   "metadata": {},
   "outputs": [
    {
     "name": "stdout",
     "output_type": "stream",
     "text": [
      "R-squared:  0.516326158853115\n",
      "Intercept:  -19.670179474543453\n",
      "Coefficients:\n"
     ]
    },
    {
     "data": {
      "text/plain": [
       "[('avg_no_it', 7.784358782154017), ('tax', -0.016376802195044213)]"
      ]
     },
     "execution_count": 40,
     "metadata": {},
     "output_type": "execute_result"
    }
   ],
   "source": [
    "# Checking the value of R-squared, intercept and coefficients\n",
    "print(\"R-squared: \", multi.score(x_train, y_train))\n",
    "print(\"Intercept: \", multi.intercept_)\n",
    "print(\"Coefficients:\")\n",
    "list(zip(x_train, multi.coef_))"
   ]
  },
  {
   "cell_type": "code",
   "execution_count": 41,
   "id": "0ce6d207",
   "metadata": {},
   "outputs": [
    {
     "name": "stdout",
     "output_type": "stream",
     "text": [
      "Predicted Value: \n",
      " [24.84095613]\n"
     ]
    }
   ],
   "source": [
    "# make predictions\n",
    "New_Value1 = 5.75\n",
    "New_Value2 = 15.2\n",
    "print ('Predicted Value: \\n', multi.predict([[New_Value1 ,New_Value2]]))  "
   ]
  },
  {
   "cell_type": "markdown",
   "id": "965439bd",
   "metadata": {},
   "source": [
    "## 4. Training and testing subsets with MLR"
   ]
  },
  {
   "cell_type": "code",
   "execution_count": 42,
   "id": "861dabc2",
   "metadata": {},
   "outputs": [
    {
     "name": "stdout",
     "output_type": "stream",
     "text": [
      "                            OLS Regression Results                            \n",
      "==============================================================================\n",
      "Dep. Variable:               Median_s   R-squared:                       0.516\n",
      "Model:                            OLS   Adj. R-squared:                  0.514\n",
      "Method:                 Least Squares   F-statistic:                     214.0\n",
      "Date:                Wed, 18 May 2022   Prob (F-statistic):           5.66e-64\n",
      "Time:                        17:05:57   Log-Likelihood:                -1326.1\n",
      "No. Observations:                 404   AIC:                             2658.\n",
      "Df Residuals:                     401   BIC:                             2670.\n",
      "Df Model:                           2                                         \n",
      "Covariance Type:            nonrobust                                         \n",
      "==============================================================================\n",
      "                 coef    std err          t      P>|t|      [0.025      0.975]\n",
      "------------------------------------------------------------------------------\n",
      "const        -19.6702      3.347     -5.877      0.000     -26.250     -13.091\n",
      "avg_no_it      7.7844      0.482     16.156      0.000       6.837       8.732\n",
      "tax           -0.0164      0.002     -8.257      0.000      -0.020      -0.012\n",
      "==============================================================================\n",
      "Omnibus:                      216.200   Durbin-Watson:                   2.110\n",
      "Prob(Omnibus):                  0.000   Jarque-Bera (JB):             1876.960\n",
      "Skew:                           2.121   Prob(JB):                         0.00\n",
      "Kurtosis:                      12.670   Cond. No.                     4.61e+03\n",
      "==============================================================================\n",
      "\n",
      "Notes:\n",
      "[1] Standard Errors assume that the covariance matrix of the errors is correctly specified.\n",
      "[2] The condition number is large, 4.61e+03. This might indicate that there are\n",
      "strong multicollinearity or other numerical problems.\n"
     ]
    },
    {
     "name": "stderr",
     "output_type": "stream",
     "text": [
      "/Users/hamdihassan/opt/anaconda3/lib/python3.9/site-packages/statsmodels/tsa/tsatools.py:142: FutureWarning: In a future version of pandas all arguments of concat except for the argument 'objs' will be keyword-only\n",
      "  x = pd.concat(x[::order], 1)\n"
     ]
    }
   ],
   "source": [
    "model = sm.OLS(y_train, sm.add_constant(x_train)).fit()\n",
    "Y_pred = model.predict(sm.add_constant(x_train))\n",
    "print_model = model.summary()\n",
    "\n",
    "print(print_model)"
   ]
  },
  {
   "cell_type": "code",
   "execution_count": 44,
   "id": "ab30e73f",
   "metadata": {},
   "outputs": [
    {
     "name": "stdout",
     "output_type": "stream",
     "text": [
      "74.99168993835433\n"
     ]
    }
   ],
   "source": [
    "print(multi.score(x_test,y_test)*100)"
   ]
  },
  {
   "cell_type": "markdown",
   "id": "8ea232d4",
   "metadata": {},
   "source": [
    "## 4. Check the model with OLS"
   ]
  },
  {
   "cell_type": "code",
   "execution_count": 45,
   "id": "35104399",
   "metadata": {},
   "outputs": [
    {
     "data": {
      "text/plain": [
       "LinearRegression()"
      ]
     },
     "execution_count": 45,
     "metadata": {},
     "output_type": "execute_result"
    }
   ],
   "source": [
    "# run regression on the test subset\n",
    "mlr = LinearRegression()  \n",
    "mlr.fit(x_train, y_train)"
   ]
  },
  {
   "cell_type": "code",
   "execution_count": 30,
   "id": "17474545",
   "metadata": {},
   "outputs": [
    {
     "name": "stdout",
     "output_type": "stream",
     "text": [
      "                            OLS Regression Results                            \n",
      "==============================================================================\n",
      "Dep. Variable:               Median_s   R-squared:                       0.758\n",
      "Model:                            OLS   Adj. R-squared:                  0.753\n",
      "Method:                 Least Squares   F-statistic:                     154.8\n",
      "Date:                Wed, 18 May 2022   Prob (F-statistic):           3.31e-31\n",
      "Time:                        13:55:31   Log-Likelihood:                -294.81\n",
      "No. Observations:                 102   AIC:                             595.6\n",
      "Df Residuals:                      99   BIC:                             603.5\n",
      "Df Model:                           2                                         \n",
      "Covariance Type:            nonrobust                                         \n",
      "==============================================================================\n",
      "                 coef    std err          t      P>|t|      [0.025      0.975]\n",
      "------------------------------------------------------------------------------\n",
      "const        -27.9776      4.694     -5.961      0.000     -37.291     -18.664\n",
      "avg_no_it      8.8557      0.648     13.675      0.000       7.571      10.141\n",
      "tax           -0.0130      0.003     -4.577      0.000      -0.019      -0.007\n",
      "==============================================================================\n",
      "Omnibus:                       17.926   Durbin-Watson:                   1.981\n",
      "Prob(Omnibus):                  0.000   Jarque-Bera (JB):               27.109\n",
      "Skew:                           0.797   Prob(JB):                     1.30e-06\n",
      "Kurtosis:                       4.958   Cond. No.                     4.90e+03\n",
      "==============================================================================\n",
      "\n",
      "Notes:\n",
      "[1] Standard Errors assume that the covariance matrix of the errors is correctly specified.\n",
      "[2] The condition number is large, 4.9e+03. This might indicate that there are\n",
      "strong multicollinearity or other numerical problems.\n"
     ]
    },
    {
     "name": "stderr",
     "output_type": "stream",
     "text": [
      "/Users/hamdihassan/opt/anaconda3/lib/python3.9/site-packages/statsmodels/tsa/tsatools.py:142: FutureWarning: In a future version of pandas all arguments of concat except for the argument 'objs' will be keyword-only\n",
      "  x = pd.concat(x[::order], 1)\n"
     ]
    }
   ],
   "source": [
    "model = sm.OLS(y_test, sm.add_constant(x_test)).fit()\n",
    "Y_pred = model.predict(sm.add_constant(x_test))\n",
    "print_model = model.summary()\n",
    "print(print_model)"
   ]
  },
  {
   "cell_type": "code",
   "execution_count": 46,
   "id": "1ace3e75",
   "metadata": {},
   "outputs": [
    {
     "name": "stdout",
     "output_type": "stream",
     "text": [
      "Prediction for test set: [37.88838686 27.92780271 25.86031424  7.61293445 36.54729703 10.71110924\n",
      " 30.16264039 27.65973942 25.5270112  19.53078774 33.53862785 23.25080414\n",
      " 21.83946331 33.02179059 27.57193135 20.47733425  5.44888271 15.7966441\n",
      " 15.8841847  14.23742377  8.33165344 22.77509213 39.64765194 25.03105041\n",
      " 30.83796695 14.99250657 25.26274989 21.33124182 25.8274269  24.81225125\n",
      " 22.83618674 10.83043261 15.24939041 26.97263474 25.50126289 22.41701162\n",
      " 26.92022534 15.31944964 41.3793898  30.88020246 17.6314042  12.24285469\n",
      " 26.81902867 15.94219835 26.57669036 27.95325453  4.6003876  23.65354441\n",
      " 21.38581371 21.23378909 21.73589474 22.98193277 22.74433256 22.75559339\n",
      " 18.17087353 24.89144354 36.6835088  20.21581132 27.58087264 22.76838901\n",
      " 20.84282125 22.34412694 17.48951251 27.77677227 17.11763652 11.06140539\n",
      " 25.86155254 24.86267801 21.73745856 15.38950887 19.89665261 23.00711712\n",
      " 20.12200351 22.76129664 13.07755431 29.6405244  19.46307709 17.29902534\n",
      " 33.04234154 16.17572911 17.91164112 38.92397404 23.28492978 17.74816958\n",
      " 19.85892246 19.37510057 17.27758493  8.62490109 20.66836204 19.4021219\n",
      " 38.12841132 21.73584239 17.91164112 17.83379753 22.58613975 27.03421762\n",
      " 17.98771148 28.85925738 20.99721777 14.76910874 18.01283778 25.00225585]\n"
     ]
    }
   ],
   "source": [
    "y_pred_mlr= mlr.predict(x_test)\n",
    "print(\"Prediction for test set: {}\".format(y_pred_mlr))"
   ]
  },
  {
   "cell_type": "code",
   "execution_count": 48,
   "id": "bdd6df28",
   "metadata": {},
   "outputs": [
    {
     "name": "stdout",
     "output_type": "stream",
     "text": [
      "74.99168993835433\n"
     ]
    }
   ],
   "source": [
    "print(mlr.score(x_test,y_test)*100)"
   ]
  },
  {
   "cell_type": "code",
   "execution_count": 54,
   "id": "4573230d",
   "metadata": {},
   "outputs": [
    {
     "name": "stdout",
     "output_type": "stream",
     "text": [
      "mean absolute error (final) 3.176885747004827\n",
      "mean squared error (final) 19.57997344484023\n",
      "R squared: 56.03\n",
      "Mean Absolute Error: 3.176885747004827\n",
      "Mean Square Error: 19.57997344484023\n"
     ]
    }
   ],
   "source": [
    "meanAbErr = metrics.mean_absolute_error(y_test, y_pred_mlr)\n",
    "meanSqErr = metrics.mean_squared_error(y_test, y_pred_mlr)\n",
    "\n",
    "print('mean absolute error (final)', metrics.mean_absolute_error(y_test, y_pred_mlr))\n",
    "print('mean squared error (final)', metrics.mean_squared_error(y_test, y_pred_mlr))\n",
    "print('R squared: {:.2f}'.format(mlr.score(X,y)*100))\n",
    "print('Mean Absolute Error:', meanAbErr)\n",
    "print('Mean Square Error:', meanSqErr)\n"
   ]
  },
  {
   "cell_type": "code",
   "execution_count": 56,
   "id": "4e13f51e",
   "metadata": {},
   "outputs": [
    {
     "name": "stdout",
     "output_type": "stream",
     "text": [
      "Predicted Value: \n",
      " [24.84095613]\n"
     ]
    }
   ],
   "source": [
    "New_Value1 = 5.75\n",
    "New_Value2 = 15.2\n",
    "print ('Predicted Value: \\n', mlr.predict([[New_Value1 ,New_Value2]])) "
   ]
  },
  {
   "cell_type": "code",
   "execution_count": 57,
   "id": "91d58b3b",
   "metadata": {},
   "outputs": [
    {
     "name": "stdout",
     "output_type": "stream",
     "text": [
      "   VIF Factor   features\n",
      "0       108.1      const\n",
      "1         1.1  avg_no_it\n",
      "2         1.1        tax\n"
     ]
    },
    {
     "name": "stderr",
     "output_type": "stream",
     "text": [
      "/Users/hamdihassan/opt/anaconda3/lib/python3.9/site-packages/statsmodels/tsa/tsatools.py:142: FutureWarning: In a future version of pandas all arguments of concat except for the argument 'objs' will be keyword-only\n",
      "  x = pd.concat(x[::order], 1)\n"
     ]
    }
   ],
   "source": [
    "# check multicollinearity\n",
    "x_temp = sm.add_constant(x_train)# multicollinearity\n",
    "\n",
    "vif = pd.DataFrame()\n",
    "vif[\"VIF Factor\"] = [variance_inflation_factor(x_temp.values, i) for i in range(x_temp.values.shape[1])]\n",
    "vif[\"features\"] = x_temp.columns\n",
    "print(vif.round(1))"
   ]
  },
  {
   "cell_type": "code",
   "execution_count": 58,
   "id": "52d60fc8",
   "metadata": {},
   "outputs": [],
   "source": [
    "model = sms.het_breuschpagan(model.resid, model.model.exog) # heteroscedasticity"
   ]
  },
  {
   "cell_type": "code",
   "execution_count": 59,
   "id": "c945280e",
   "metadata": {},
   "outputs": [
    {
     "name": "stdout",
     "output_type": "stream",
     "text": [
      "{'LM stat': 25.71361477472052, 'LM Test p-value': 2.6083117438457607e-06, 'F-stat': 13.62877429295051, 'F-test p-value': 1.8775385253290402e-06}\n"
     ]
    }
   ],
   "source": [
    "terms = ['LM stat', 'LM Test p-value', 'F-stat', 'F-test p-value']\n",
    "print(dict(zip(terms, model)))"
   ]
  },
  {
   "cell_type": "markdown",
   "id": "f54ddd2d",
   "metadata": {},
   "source": [
    "`Note:` We always fit the model to train data and evaluate the performance of the model using the test data. We predict the test data and compare the predictions with actual test values.\n",
    "- rerun the model on the test data and jot down your observation."
   ]
  },
  {
   "cell_type": "code",
   "execution_count": null,
   "id": "5c45f5d1",
   "metadata": {},
   "outputs": [],
   "source": []
  }
 ],
 "metadata": {
  "kernelspec": {
   "display_name": "Python 3 (ipykernel)",
   "language": "python",
   "name": "python3"
  },
  "language_info": {
   "codemirror_mode": {
    "name": "ipython",
    "version": 3
   },
   "file_extension": ".py",
   "mimetype": "text/x-python",
   "name": "python",
   "nbconvert_exporter": "python",
   "pygments_lexer": "ipython3",
   "version": "3.9.7"
  }
 },
 "nbformat": 4,
 "nbformat_minor": 5
}
